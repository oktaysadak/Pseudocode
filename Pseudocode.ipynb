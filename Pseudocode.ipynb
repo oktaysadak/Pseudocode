{
 "cells": [
  {
   "cell_type": "markdown",
   "metadata": {},
   "source": [
    "## What is Pseudo-code?"
   ]
  },
  {
   "cell_type": "markdown",
   "metadata": {},
   "source": [
    "Pseudo-code is an informal coding practice to help programmers plan algorithms and train programmatic thinking. Pseudo-code is not tied to any specific programming language such as Python, JavaScript, or C#. Instead, it uses human language for describing the actions needed to build the algorithm to solve a specific problem. \n",
    "By using pseudo-code, you can plan every step of your program without worrying about syntax. Its greatest benefit is to allow you to discover the vulnerabilities and opportunities of your programmatic logic and help you improve it before implementation."
   ]
  },
  {
   "cell_type": "markdown",
   "metadata": {},
   "source": [
    "It is essentially breaking down the problem into simpler steps and in simpler words. We usually don't use \"technical\" language for pseudocoding but rather a conversational, everyday expressions."
   ]
  },
  {
   "cell_type": "markdown",
   "metadata": {},
   "source": [
    "### Do's & Don'ts:"
   ]
  },
  {
   "cell_type": "markdown",
   "metadata": {},
   "source": [
    "#### Do's:"
   ]
  },
  {
   "cell_type": "markdown",
   "metadata": {},
   "source": [
    "- Use control structure\n",
    "- Use proper naming conventions\n",
    "- Indentations and white spaces are the key\n",
    "- Keep it simple\n",
    "- Keep it concise"
   ]
  },
  {
   "cell_type": "markdown",
   "metadata": {},
   "source": [
    "#### Don'ts:"
   ]
  },
  {
   "cell_type": "markdown",
   "metadata": {},
   "source": [
    "- Don't make your pseudo-code abstract\n",
    "- Don't be too generalized"
   ]
  },
  {
   "cell_type": "markdown",
   "metadata": {},
   "source": [
    "### Some Examples"
   ]
  },
  {
   "cell_type": "markdown",
   "metadata": {},
   "source": [
    "**Write a program that asks the user for a temperature in Fahrenheit and prints out the same temperature in Celsius.** "
   ]
  },
  {
   "cell_type": "code",
   "execution_count": 7,
   "metadata": {},
   "outputs": [],
   "source": [
    "# This is a sample pseudo code"
   ]
  },
  {
   "cell_type": "raw",
   "metadata": {},
   "source": [
    "x = Get user input\n",
    "y = Convert x to Celsius\n",
    "Output message displaying Celsius temperature"
   ]
  },
  {
   "cell_type": "code",
   "execution_count": 8,
   "metadata": {},
   "outputs": [],
   "source": [
    "# Here is the pseudocode "
   ]
  },
  {
   "cell_type": "code",
   "execution_count": 9,
   "metadata": {},
   "outputs": [
    {
     "name": "stdout",
     "output_type": "stream",
     "text": [
      "Your temperature in Celsius is: 37.77777777777778\n"
     ]
    }
   ],
   "source": [
    "# 1. ask a user to input a temperature in Fahrenheit\n",
    "# For this, use the input command for user input. Note when we use the input function, data type is string by default\n",
    "x=input('Please input a temperature in Fahrenheit. ')  \n",
    "            \n",
    "# 2. Use formula to convert degrees in Celsius to Fahrenheit\n",
    "\n",
    "y=(float(x)-32)*5/9  # Formula to convert degree to Fahrenheit    \n",
    "\n",
    "print('Your temperature in Celsius is:', y)"
   ]
  },
  {
   "cell_type": "markdown",
   "metadata": {},
   "source": [
    "Now let's see how we could pseudocode the process in opposite dirrection using the thinking process we have already for the degree to Fahreheit: \n",
    "\n",
    "**Write a program that converts from Fahrenheit to Celsius or from Celsius to Fahrenheit, depending on the user's choice.**"
   ]
  },
  {
   "cell_type": "code",
   "execution_count": 10,
   "metadata": {},
   "outputs": [],
   "source": [
    "# This is a pseudo code\n",
    "\n",
    "# 1. give a user option to choose if they want to convert from degrees to Fahrenheit or opposite\n",
    "    # thinking backwards, we need to expain to user first that they have options and describe them so the user knows exactly what input to provide to get the desired output\n",
    "\n",
    "# 2. depending on user's input, execute a specific code block (code block 1: Fahrenheit to Celsius or code block 2: elsius to Fahrenheit)"
   ]
  },
  {
   "cell_type": "raw",
   "metadata": {},
   "source": [
    "x = input \"Press 1 to convert from Fahrenheit to Celsius or Press 2 to convert from Celsius to Fahrenheit.\"\n",
    "y = input ask what number?\n",
    "z = choice\n",
    "\n",
    "if z = 1 (1 is pressed)  \n",
    "    do f to c conversion      # Note we use the correct identation in the pseudocode as well\n",
    "    print output\n",
    "elif z = 2 (2 is pressed)\n",
    "    do c to f conversion\n",
    "    print output\n",
    "else\n",
    "    print \"Please enter either 1 or 2\""
   ]
  },
  {
   "cell_type": "code",
   "execution_count": 11,
   "metadata": {},
   "outputs": [],
   "source": [
    "# Here is the code "
   ]
  },
  {
   "cell_type": "code",
   "execution_count": 12,
   "metadata": {},
   "outputs": [
    {
     "name": "stdout",
     "output_type": "stream",
     "text": [
      "37.77777777777778\n"
     ]
    }
   ],
   "source": [
    "x = int(input(\"Press 1 to convert from Fahrenheit to Celsius or Press 2 to convert from Celsius to Fahrenheit.\"))\n",
    "y = input(\"What is the number you want to convert? \")\n",
    "z = float(x)\n",
    "\n",
    "if z == 1:\n",
    "    y=(float(y)-32)*5/9\n",
    "    print(y)\n",
    "elif z == 2:\n",
    "    y=float(y)*9/5+32\n",
    "    print(y)\n",
    "else:\n",
    "    print(\"Please enter either 1 or 2\")"
   ]
  },
  {
   "cell_type": "markdown",
   "metadata": {},
   "source": [
    "**Making the code more robust**"
   ]
  },
  {
   "cell_type": "markdown",
   "metadata": {},
   "source": [
    "What else can be added?   \n",
    "Right now if we debug our code, after first wrong input (let's say '3') the code will print an error message and stop.   \n",
    "In order to succeed with the request and improve the user experience we need to keep on asking for the value until the correct one is received. Besides that we should prevent compiling errors.  \n",
    "The **float()** function can receive only numerical values. What if user enters string value? They will receive Python error message which is useless for him.  \n",
    "We need to prevent such bad user experiences."
   ]
  },
  {
   "cell_type": "code",
   "execution_count": 13,
   "metadata": {},
   "outputs": [],
   "source": [
    "# This is a pseudo code\n",
    "\n",
    "# 1. Before the start of execution any of the code blocks, we should handle potential crashes of our algorithm by setting up a proper communocation with user - with very clear \"error\" messages. This is usually called \"handling edge cases\" - when user could break our algorithm with bas inputs. We should never assume what will be user's behavior - some users are \"malicious\" and they tend to do whatever it takes to break the algorithm.\n",
    "\n",
    "# edge case 1: users should be allowed just to input 1 or 2 - in any other case send a message to users notifying them about their options\n",
    "\n",
    "# edge case 2: when inputting a value for the temperature to be converted, make sure users input only numbers as the only valid input - in any other case send a message to users notifying them about their options"
   ]
  },
  {
   "cell_type": "raw",
   "metadata": {},
   "source": [
    "flag1 = entered value is wrong  \n",
    "# We are setting the default value to wrong/false. We will change the value to correct/true if the input value is correct                \n",
    "while flag1 is wrong\n",
    "    x = input \"Press 1 to convert from Fahrenheit to Celsius or Press 2 to convert from Celsius to Fahrenheit. \"\n",
    "    if x is not 1 or 2\n",
    "        print error message\n",
    "    else\n",
    "        z = choice\n",
    "        flag1 = entered value is correct\n",
    "\n",
    "flag2 = entered number is not a number\n",
    "while flag2 is wrong\n",
    "    y = input ask what number?\n",
    "    if y is not number\n",
    "        print error message\n",
    "    else\n",
    "        convert y into float number\n",
    "        flag2 = entered value is correct\n",
    "\n",
    "if z = 1 (1 is pressed)\n",
    "    do f to c conversion\n",
    "    print output\n",
    "else (2 is pressed)\n",
    "    do c to f conversion\n",
    "    print output"
   ]
  },
  {
   "cell_type": "code",
   "execution_count": 14,
   "metadata": {},
   "outputs": [],
   "source": [
    "# Here is the code "
   ]
  },
  {
   "cell_type": "code",
   "execution_count": 18,
   "metadata": {},
   "outputs": [
    {
     "name": "stdout",
     "output_type": "stream",
     "text": [
      "ERROR: Please enter either 1 or 2\n",
      "210.2\n"
     ]
    }
   ],
   "source": [
    "flag1=False\n",
    "while flag1==False:\n",
    "    x = input(\"Press 1 to convert from Fahrenheit to Celsius or Press 2 to convert from Celsius to Fahrenheit. \")\n",
    "    if x not in ['1','2']:\n",
    "        print('ERROR: Please enter either 1 or 2')\n",
    "    else:\n",
    "        z = int(x)\n",
    "        flag1=True\n",
    "\n",
    "flag2=False\n",
    "while flag2==False:\n",
    "    y = input(\"What is the number you want to convert?\")\n",
    "    if y.replace(\".\", \"\", 1).lstrip('+-').isdigit()==False:\n",
    "        print('ERROR: Please enter a number')\n",
    "    else:\n",
    "        y=float(y)\n",
    "        flag2=True\n",
    "\n",
    "if z == 1:\n",
    "    y=(y-32)*5/9\n",
    "    print(y)\n",
    "else:\n",
    "    y=y*9/5+32\n",
    "    print(y)"
   ]
  },
  {
   "cell_type": "code",
   "execution_count": null,
   "metadata": {},
   "outputs": [],
   "source": []
  },
  {
   "cell_type": "markdown",
   "metadata": {},
   "source": [
    "### Exercise - Writing Pseudocode"
   ]
  },
  {
   "cell_type": "markdown",
   "metadata": {},
   "source": [
    "### Duel Of Sorcerers\n",
    "\n",
    "\n",
    "\n",
    "\n",
    "You are witnessing an epic battle between two powerful sorcerers: Gandalf and Saruman. Each sorcerer has 10 spells of different powers in their mind and they are going to throw them one after the other. The winner of the duel will be the one who wins more of those clashes between spells. Spells are represented as a list of 10 integers whose value equals the power of the spell.\n",
    "\n",
    "```py\n",
    "gandalf = [10, 11, 13, 30, 22, 11, 10, 33, 22, 22]\n",
    "saruman = [23, 66, 12, 43, 12, 10, 44, 23, 12, 17]\n",
    "```\n",
    "\n",
    "For example:\n",
    "\n",
    "- The first clash is won by Saruman: 10 against 23\n",
    "- The second clash is won by Saruman: 11 against 66\n",
    "  etc.\n",
    "\n",
    "You will create two variables, one for each sorcerer, where the total of number of clashes won by each sorcerer will be stored. Depending on which variable is greater at the end of the duel, you will show one of the following three results on the screen:\n",
    "\n",
    "```\n",
    "Gandalf wins\n",
    "Saruman wins\n",
    "Tie\n",
    "```\n",
    "\n",
    "Write a pseudocode to solve this problem and then code it!"
   ]
  },
  {
   "cell_type": "code",
   "execution_count": 16,
   "metadata": {},
   "outputs": [
    {
     "ename": "SyntaxError",
     "evalue": "invalid syntax (<ipython-input-16-e4cce9132064>, line 1)",
     "output_type": "error",
     "traceback": [
      "\u001b[0;36m  File \u001b[0;32m\"<ipython-input-16-e4cce9132064>\"\u001b[0;36m, line \u001b[0;32m1\u001b[0m\n\u001b[0;31m    Pseudocode:\u001b[0m\n\u001b[0m               ^\u001b[0m\n\u001b[0;31mSyntaxError\u001b[0m\u001b[0;31m:\u001b[0m invalid syntax\n"
     ]
    }
   ],
   "source": [
    "Pseudocode:\n",
    "\n",
    "- Create variables and assign spell power lists to them\n",
    "- Create variables to store number of wins by Gandalf and by Saruman. Assign 0 to each variable that stores the wins.\n",
    "- Execute the spell clashes. Iterate on the length of any one list:\n",
    "  - Compare consecutive powers\n",
    "  - If Gandalf wins update victory for Gandalf (variable that stores number of wins should go up by 1)\n",
    "  - else if Saruman wins update the victory for Saruman (the same as above, just this time for Saruman)\n",
    "  - else it is a tie\n",
    "- If Gandalf's wins are greater than Saruman's - print Gandalf wins\n",
    "- Else if Saruman wins are greater than Gandalf's - print Saruman wins\n",
    "- Else print there is a tie"
   ]
  },
  {
   "cell_type": "code",
   "execution_count": 19,
   "metadata": {},
   "outputs": [
    {
     "name": "stdout",
     "output_type": "stream",
     "text": [
      "Gandalf wins!\n"
     ]
    }
   ],
   "source": [
    "\n",
    "# Assign spell power lists to variables\n",
    "\n",
    "gandalf = [10, 11, 13, 30, 22, 11, 10, 33, 22, 22]\n",
    "saruman = [23, 66, 12, 43, 12, 10, 44, 23, 12, 17]\n",
    "\n",
    "# Assign 0 to each variable that stores the victories\n",
    "total_gandalf_wins = 0\n",
    "total_saruman_wins = 0\n",
    "\n",
    "# Execution of spell clashes\n",
    "for i in range(0, len(gandalf)):\n",
    "    if (gandalf[i] > saruman[i]):\n",
    "        total_gandalf_wins += 1\n",
    "    elif (saruman[i] > gandalf[i]):\n",
    "        total_saruman_wins += 1\n",
    "\n",
    "# We check who has won, do not forget the possibility of a draw.\n",
    "# Print the result based on the winner.\n",
    "if (total_gandalf_wins > total_saruman_wins):\n",
    "    print (\"Gandalf wins!\")\n",
    "elif (total_saruman_wins > total_gandalf_wins):\n",
    "    print (\"Saruman wins!\")\n",
    "else:\n",
    "    print (\"No winners, it is a tie.\")\n"
   ]
  },
  {
   "cell_type": "raw",
   "metadata": {},
   "source": [
    "1. You are witnessing an epic battle between two powerful sorcerers: Gandalf and Saruman. Each sorcerer has 10 spells of variable power in their mind and they are going to throw them one after the other. The winner of the duel will be the one who wins more of those clashes between spells. Spells are represented as a list of 10 integers whose value equals the power of the spell.\n",
    "\n",
    "gandalf = [10, 11, 13, 30, 22, 11, 10, 33, 22, 22]\n",
    "saruman = [23, 66, 12, 43, 12, 10, 44, 23, 12, 17]\n",
    "\n",
    "For example:\n",
    "The first clash is won by Saruman: 10 against 23, wins 23\n",
    "The second clash wins Saruman: 11 against 66, wins 66\n",
    "etc.\n",
    "\n",
    "You will create two variables, one for each sorcerer, where the sum of clashes won will be stored. Depending on which variable is greater at the end of the duel, you will show one of the following three results on the screen:\n",
    "Gandalf wins\n",
    "Saruman wins\n",
    "Tie\n",
    "\n",
    "Write a pseudocode to solve this problem and then code it !"
   ]
  },
  {
   "cell_type": "code",
   "execution_count": 1,
   "metadata": {},
   "outputs": [
    {
     "name": "stdout",
     "output_type": "stream",
     "text": [
      "Gandalf wins!\n"
     ]
    }
   ],
   "source": [
    "gandalf = [10, 11, 13, 30, 22, 11, 10, 33, 22, 22]\n",
    "saruman = [23, 66, 12, 43, 12, 10, 44, 23, 12, 17]\n",
    "\n",
    "total_gandalf_wins = 0\n",
    "total_saruman_wins = 0\n",
    "\n",
    "for i in range(0, len(gandalf)):\n",
    "    if (gandalf[i] > saruman[i]):\n",
    "        total_gandalf_wins += 1\n",
    "    elif (saruman[i] > gandalf[i]):\n",
    "        total_saruman_wins += 1\n",
    "\n",
    "if (total_gandalf_wins > total_saruman_wins):\n",
    "    print (\"Gandalf wins!\")\n",
    "elif (total_saruman_wins > total_gandalf_wins):\n",
    "    print (\"Saruman wins!\")\n",
    "else:\n",
    "    print (\"No winners, it is a tie.\")\n"
   ]
  },
  {
   "cell_type": "code",
   "execution_count": null,
   "metadata": {},
   "outputs": [],
   "source": []
  }
 ],
 "metadata": {
  "kernelspec": {
   "display_name": "Python 3",
   "language": "python",
   "name": "python3"
  },
  "language_info": {
   "codemirror_mode": {
    "name": "ipython",
    "version": 3
   },
   "file_extension": ".py",
   "mimetype": "text/x-python",
   "name": "python",
   "nbconvert_exporter": "python",
   "pygments_lexer": "ipython3",
   "version": "3.8.8"
  }
 },
 "nbformat": 4,
 "nbformat_minor": 2
}
